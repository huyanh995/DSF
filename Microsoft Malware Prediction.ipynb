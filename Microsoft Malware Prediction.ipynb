{
  "nbformat": 4,
  "nbformat_minor": 5,
  "metadata": {
    "kernelspec": {
      "display_name": "Python 3",
      "language": "python",
      "name": "python3"
    },
    "language_info": {
      "codemirror_mode": {
        "name": "ipython",
        "version": 3
      },
      "file_extension": ".py",
      "mimetype": "text/x-python",
      "name": "python",
      "nbconvert_exporter": "python",
      "pygments_lexer": "ipython3",
      "version": "3.8.2"
    },
    "colab": {
      "name": "cse519_hw2_Nguyen_HuyAnh_113094662.ipynb",
      "provenance": [],
      "collapsed_sections": [],
      "machine_shape": "hm"
    }
  },
  "cells": [
    {
      "cell_type": "code",
      "metadata": {
        "colab": {
          "base_uri": "https://localhost:8080/"
        },
        "id": "hairy-acquisition",
        "outputId": "8e87ffca-5a67-4f65-e162-6064adc4bf03"
      },
      "source": [
        "from google.colab import drive\n",
        "drive.mount('/content/drive')"
      ],
      "id": "hairy-acquisition",
      "execution_count": 1,
      "outputs": [
        {
          "output_type": "stream",
          "name": "stdout",
          "text": [
            "Drive already mounted at /content/drive; to attempt to forcibly remount, call drive.mount(\"/content/drive\", force_remount=True).\n"
          ]
        }
      ]
    },
    {
      "cell_type": "code",
      "metadata": {
        "colab": {
          "base_uri": "https://localhost:8080/"
        },
        "id": "still-permit",
        "outputId": "8980cd19-c2b3-4f50-c2a5-146a86cb6213"
      },
      "source": [
        "%cd drive/MyDrive/DSF_HW"
      ],
      "id": "still-permit",
      "execution_count": 2,
      "outputs": [
        {
          "output_type": "stream",
          "name": "stdout",
          "text": [
            "/content/drive/MyDrive/DSF_HW\n"
          ]
        }
      ]
    },
    {
      "cell_type": "code",
      "metadata": {
        "id": "mHkpRT_SuLz3"
      },
      "source": [
        "# from google.colab import files\n",
        "# files.upload() # kaggle.json"
      ],
      "id": "mHkpRT_SuLz3",
      "execution_count": 3,
      "outputs": []
    },
    {
      "cell_type": "code",
      "metadata": {
        "id": "SnaDhRa0xGzn"
      },
      "source": [
        "# !cp kaggle.json ~/.kaggle/"
      ],
      "id": "SnaDhRa0xGzn",
      "execution_count": 4,
      "outputs": []
    },
    {
      "cell_type": "code",
      "metadata": {
        "id": "gjdWnCpHvH0Q"
      },
      "source": [
        "# !pip install --upgrade --force-reinstall --no-deps kaggle"
      ],
      "id": "gjdWnCpHvH0Q",
      "execution_count": 5,
      "outputs": []
    },
    {
      "cell_type": "code",
      "metadata": {
        "id": "fEkPT4XEs0R8"
      },
      "source": [
        "# !kaggle competitions download -c microsoft-malware-prediction\n",
        "# !unzip microsoft-malware-prediction.zip"
      ],
      "id": "fEkPT4XEs0R8",
      "execution_count": 6,
      "outputs": []
    },
    {
      "cell_type": "markdown",
      "metadata": {
        "id": "concerned-machine"
      },
      "source": [
        "# Section 1: Library and Data Imports (Q1)"
      ],
      "id": "concerned-machine"
    },
    {
      "cell_type": "code",
      "metadata": {
        "id": "fifty-occasions"
      },
      "source": [
        "import numpy as np\n",
        "import pandas as pd\n",
        "import matplotlib.pyplot as plt"
      ],
      "id": "fifty-occasions",
      "execution_count": 7,
      "outputs": []
    },
    {
      "cell_type": "code",
      "metadata": {
        "id": "equivalent-depression"
      },
      "source": [
        "use_cols = [\"MachineIdentifier\", \"SmartScreen\", \"AVProductsInstalled\", \"AppVersion\", \"CountryIdentifier\", \"Census_OSInstallTypeName\", \"Wdft_IsGamer\",\n",
        "           \"EngineVersion\", \"AVProductStatesIdentifier\", \"Census_OSVersion\", \"Census_TotalPhysicalRAM\", \"Census_ActivationChannel\",\n",
        "           \"RtpStateBitfield\", \"Census_ProcessorModelIdentifier\", \"Census_PrimaryDiskTotalCapacity\", \n",
        "            \"Census_InternalPrimaryDiagonalDisplaySizeInInches\", \"Wdft_RegionIdentifier\", \"LocaleEnglishNameIdentifier\",\n",
        "           \"AvSigVersion\", \"IeVerIdentifier\", \"IsProtected\", \"Census_InternalPrimaryDisplayResolutionVertical\", \"Census_PrimaryDiskTypeName\",\n",
        "            \"Census_OSWUAutoUpdateOptionsName\", \"Census_OSEdition\", \"Census_GenuineStateName\", \"Census_ProcessorCoreCount\", \n",
        "           \"Census_OEMNameIdentifier\", \"Census_MDC2FormFactor\", \"Census_FirmwareManufacturerIdentifier\", \"OsBuildLab\", \"Census_OSBuildRevision\", \n",
        "            \"Census_OSBuildNumber\", \"Census_IsPenCapable\", \"Census_IsTouchEnabled\", \"Census_IsAlwaysOnAlwaysConnectedCapable\", \"Census_IsSecureBootEnabled\", \n",
        "            \"Census_SystemVolumeTotalCapacity\", \"Census_PrimaryDiskTotalCapacity\", \"HasDetections\"\n",
        "           ]"
      ],
      "id": "equivalent-depression",
      "execution_count": 8,
      "outputs": []
    },
    {
      "cell_type": "code",
      "metadata": {
        "id": "listed-valley"
      },
      "source": [
        "dtypes = {\n",
        "        'MachineIdentifier':                                    'category',\n",
        "        'ProductName':                                          'category',\n",
        "        'EngineVersion':                                        'category',\n",
        "        'AppVersion':                                           'category',\n",
        "        'AvSigVersion':                                         'category',\n",
        "        'IsBeta':                                               'int8',\n",
        "        'RtpStateBitfield':                                     'float16',\n",
        "        'IsSxsPassiveMode':                                     'int8',\n",
        "        'DefaultBrowsersIdentifier':                            'float16',\n",
        "        'AVProductStatesIdentifier':                            'float32',\n",
        "        'AVProductsInstalled':                                  'float16',\n",
        "        'AVProductsEnabled':                                    'float16',\n",
        "        'HasTpm':                                               'int8',\n",
        "        'CountryIdentifier':                                    'int16',\n",
        "        'CityIdentifier':                                       'float32',\n",
        "        'OrganizationIdentifier':                               'float16',\n",
        "        'GeoNameIdentifier':                                    'float16',\n",
        "        'LocaleEnglishNameIdentifier':                          'int8',\n",
        "        'Platform':                                             'category',\n",
        "        'Processor':                                            'category',\n",
        "        'OsVer':                                                'category',\n",
        "        'OsBuild':                                              'int16',\n",
        "        'OsSuite':                                              'int16',\n",
        "        'OsPlatformSubRelease':                                 'category',\n",
        "        'OsBuildLab':                                           'category',\n",
        "        'SkuEdition':                                           'category',\n",
        "        'IsProtected':                                          'float16',\n",
        "        'AutoSampleOptIn':                                      'int8',\n",
        "        'PuaMode':                                              'category',\n",
        "        'SMode':                                                'float16',\n",
        "        'IeVerIdentifier':                                      'float16',\n",
        "        'SmartScreen':                                          'category',\n",
        "        'Firewall':                                             'float16',\n",
        "        'UacLuaenable':                                         'float32',\n",
        "        'Census_MDC2FormFactor':                                'category',\n",
        "        'Census_DeviceFamily':                                  'category',\n",
        "        'Census_OEMNameIdentifier':                             'float16',\n",
        "        'Census_OEMModelIdentifier':                            'float32',\n",
        "        'Census_ProcessorCoreCount':                            'float16',\n",
        "        'Census_ProcessorManufacturerIdentifier':               'float16',\n",
        "        'Census_ProcessorModelIdentifier':                      'float16',\n",
        "        'Census_ProcessorClass':                                'category',\n",
        "        'Census_PrimaryDiskTotalCapacity':                      'float32',\n",
        "        'Census_PrimaryDiskTypeName':                           'category',\n",
        "        'Census_SystemVolumeTotalCapacity':                     'float32',\n",
        "        'Census_HasOpticalDiskDrive':                           'int8',\n",
        "        'Census_TotalPhysicalRAM':                              'float32',\n",
        "        'Census_ChassisTypeName':                               'category',\n",
        "        'Census_InternalPrimaryDiagonalDisplaySizeInInches':    'float16',\n",
        "        'Census_InternalPrimaryDisplayResolutionHorizontal':    'float16',\n",
        "        'Census_InternalPrimaryDisplayResolutionVertical':      'float16',\n",
        "        'Census_PowerPlatformRoleName':                         'category',\n",
        "        'Census_InternalBatteryType':                           'category',\n",
        "        'Census_InternalBatteryNumberOfCharges':                'float32',\n",
        "        'Census_OSVersion':                                     'category',\n",
        "        'Census_OSArchitecture':                                'category',\n",
        "        'Census_OSBranch':                                      'category',\n",
        "        'Census_OSBuildNumber':                                 'int16',\n",
        "        'Census_OSBuildRevision':                               'int32',\n",
        "        'Census_OSEdition':                                     'category',\n",
        "        'Census_OSSkuName':                                     'category',\n",
        "        'Census_OSInstallTypeName':                             'category',\n",
        "        'Census_OSInstallLanguageIdentifier':                   'float16',\n",
        "        'Census_OSUILocaleIdentifier':                          'int16',\n",
        "        'Census_OSWUAutoUpdateOptionsName':                     'category',\n",
        "        'Census_IsPortableOperatingSystem':                     'int8',\n",
        "        'Census_GenuineStateName':                              'category',\n",
        "        'Census_ActivationChannel':                             'category',\n",
        "        'Census_IsFlightingInternal':                           'float16',\n",
        "        'Census_IsFlightsDisabled':                             'float16',\n",
        "        'Census_FlightRing':                                    'category',\n",
        "        'Census_ThresholdOptIn':                                'float16',\n",
        "        'Census_FirmwareManufacturerIdentifier':                'float16',\n",
        "        'Census_FirmwareVersionIdentifier':                     'float32',\n",
        "        'Census_IsSecureBootEnabled':                           'int8',\n",
        "        'Census_IsWIMBootEnabled':                              'float16',\n",
        "        'Census_IsVirtualDevice':                               'float16',\n",
        "        'Census_IsTouchEnabled':                                'int8',\n",
        "        'Census_IsPenCapable':                                  'int8',\n",
        "        'Census_IsAlwaysOnAlwaysConnectedCapable':              'float16',\n",
        "        'Wdft_IsGamer':                                         'float16',\n",
        "        'Wdft_RegionIdentifier':                                'float16'        \n",
        "        }"
      ],
      "id": "listed-valley",
      "execution_count": 9,
      "outputs": []
    },
    {
      "cell_type": "code",
      "metadata": {
        "id": "historic-annual"
      },
      "source": [
        "data = pd.read_csv('train.csv', usecols=use_cols, dtype=dtypes)"
      ],
      "id": "historic-annual",
      "execution_count": 10,
      "outputs": []
    },
    {
      "cell_type": "markdown",
      "metadata": {
        "id": "adjusted-tragedy"
      },
      "source": [
        "# Section 2: Measure of Power (Q2a & 2b)"
      ],
      "id": "adjusted-tragedy"
    },
    {
      "cell_type": "markdown",
      "metadata": {
        "id": "ajLMj5gG0TRM"
      },
      "source": [
        "## 2a"
      ],
      "id": "ajLMj5gG0TRM"
    },
    {
      "cell_type": "markdown",
      "metadata": {
        "id": "TGdbB7pgcDG9"
      },
      "source": [
        "I found 8 features to be relevant to computers power.\n",
        "* Census_ProcessorCoreCount: of course, the more number of cores, the more powerful the machine is\n",
        "* Census_TotalPhysicalRAM: same as processor cores, but at some level, more ram don't contribute much to computers power. Imaging you have a computer with 2GB of RAM, it will be day and night when you switch to one with 8GB but with 64GB, you probably dont feel any difference.\n",
        "* Census_PrimaryDiskTotalCapacity: I actually divide total capacity into 4 ranges: [0, 128, 512, 1024, 10000]. They are also the range that most computer vendors segment their products. So if you have a computer with 1TB of disk, likely that it will be a high/newer model than the one with 128GB. After divide them into ranges, I will assign weights for each one.\n",
        "* Census_PrimaryDiskTypeName: there are 4 differents value: HDD, SSD, UNKNOWN, and unspecified. SSD is much faster and boost the computer performance so I will assign large weight for SSD. The rest three values will have the same weight.\n",
        "* Census_InternalPrimaryDisplayResolutionVertical and Census_InternalPrimaryDiagonalDisplaySizeInInches can be interprete the same like DiskTotal and DiskType. Larger screen computers are likely the gaming machines or workstation machines, hence they have more power. Also high resolution (despite of small size screen) indicates that it's a high end model, then have better build then slightly more powerful than the peers.\n",
        "* Census_MDC2FormFactor decides the type of devices. Generally speaking, PCs are more powerful than laptop, workstations are better than PCs and so on.\n",
        "* Wdft_IsGamer: the feature speaks itself."
      ],
      "id": "TGdbB7pgcDG9"
    },
    {
      "cell_type": "markdown",
      "metadata": {
        "id": "bKmMg3eHem0S"
      },
      "source": [
        "After that:\n",
        "\n",
        "**computer_power = multiply of these 8 features**"
      ],
      "id": "bKmMg3eHem0S"
    },
    {
      "cell_type": "code",
      "metadata": {
        "id": "pGs86FTuaTqC"
      },
      "source": [
        "# Features to evaluate Computers power\n",
        "power_features = [\"Wdft_IsGamer\", \n",
        "                  \"Census_PrimaryDiskTypeName\", \n",
        "                  \"Census_PrimaryDiskTotalCapacity\", \n",
        "                  \"Census_InternalPrimaryDisplayResolutionVertical\", \n",
        "                  \"Census_InternalPrimaryDiagonalDisplaySizeInInches\",\n",
        "                  \"Census_TotalPhysicalRAM\",\n",
        "                  \"Census_ProcessorCoreCount\",\n",
        "                  \"Census_MDC2FormFactor\"]"
      ],
      "id": "pGs86FTuaTqC",
      "execution_count": 12,
      "outputs": []
    },
    {
      "cell_type": "code",
      "metadata": {
        "id": "IVTGAF6Heqrc"
      },
      "source": [
        "power_data = data[power_features].copy()"
      ],
      "id": "IVTGAF6Heqrc",
      "execution_count": 13,
      "outputs": []
    },
    {
      "cell_type": "code",
      "metadata": {
        "colab": {
          "base_uri": "https://localhost:8080/"
        },
        "id": "J-JxhyxUh43_",
        "outputId": "10f3d9bd-33d7-4624-bb18-49446341b5fd"
      },
      "source": [
        "# Check whether or not the data has NaN value\n",
        "power_data.isnull().sum()\n",
        "# And of course, a lot :)"
      ],
      "id": "J-JxhyxUh43_",
      "execution_count": 14,
      "outputs": [
        {
          "output_type": "execute_result",
          "data": {
            "text/plain": [
              "Wdft_IsGamer                                         303451\n",
              "Census_PrimaryDiskTypeName                            12844\n",
              "Census_PrimaryDiskTotalCapacity                       53016\n",
              "Census_InternalPrimaryDisplayResolutionVertical       46986\n",
              "Census_InternalPrimaryDiagonalDisplaySizeInInches     47134\n",
              "Census_TotalPhysicalRAM                               80533\n",
              "Census_ProcessorCoreCount                             41306\n",
              "Census_MDC2FormFactor                                     0\n",
              "dtype: int64"
            ]
          },
          "metadata": {},
          "execution_count": 14
        }
      ]
    },
    {
      "cell_type": "markdown",
      "metadata": {
        "id": "Ve_tMeXgfDvE"
      },
      "source": [
        "Process NaN and transform the features into appropriate values (mostly based on my own knowledge)"
      ],
      "id": "Ve_tMeXgfDvE"
    },
    {
      "cell_type": "code",
      "metadata": {
        "id": "M-tFQoReev0a"
      },
      "source": [
        "import math\n",
        "# Transform DiskType\n",
        "disk_type = {\"HDD\": 1, \"UNKNOWN\": 1, \"Unspecified\": 1, \"SSD\": 1.5}\n",
        "power_data[\"Census_PrimaryDiskTypeName\"] = power_data[\"Census_PrimaryDiskTypeName\"].fillna(\"UNKNOWN\")\n",
        "power_data['Census_PrimaryDiskTypeName'] = power_data['Census_PrimaryDiskTypeName'].replace(disk_type)\n",
        "\n",
        "# Transform FormFactor to weights\n",
        "formfactor = {\"Notebook\": 1, \"Convertible\": 1, \"Detachable\": 1, \"Desktop\": 1.1, \"AllInOne\": 1.1, \n",
        "              \"PCOther\": 1.1, \"LargeTablet\": 0.9, \"SmallTablet\": 0.8, \"SmallServer\": 1.15, \n",
        "              \"MediumServer\": 1.3, \"LargeServer\": 1.5, \"ServerOther\": 1.2, \"IoTOther\": 0.7}\n",
        "power_data[\"Census_MDC2FormFactor\"] = power_data[\"Census_MDC2FormFactor\"].replace(formfactor)\n",
        "\n",
        "# Transform MB to GB then using log base 1.12 with RAM > 30GB\n",
        "ram =  \"Census_TotalPhysicalRAM\"\n",
        "power_data[ram] = power_data[ram]/1024\n",
        "power_data[ram] = power_data[ram].fillna(power_data[ram].median())\n",
        "power_data[ram] = np.where(power_data[ram] > 30, np.log(power_data[ram]+1)/np.log(1.12), power_data[ram])\n",
        "\n",
        "# Fill na for cpu count\n",
        "power_data[\"Census_ProcessorCoreCount\"] = power_data[\"Census_ProcessorCoreCount\"].fillna(power_data[\"Census_ProcessorCoreCount\"].median())\n",
        "\n",
        "# Transform display size\n",
        "disp_size = \"Census_InternalPrimaryDiagonalDisplaySizeInInches\"\n",
        "power_data[disp_size] = power_data[disp_size].fillna(1)\n",
        "power_data[disp_size] = np.where(power_data[disp_size] <= 11, 0.8, power_data[disp_size])\n",
        "power_data[disp_size] = np.where(power_data[disp_size].between(11.0001,14), 1, power_data[disp_size])\n",
        "power_data[disp_size] = np.where(power_data[disp_size].between(14.0001,16), 1.1, power_data[disp_size])\n",
        "power_data[disp_size] = np.where(power_data[disp_size].between(16.0001,21), 1.12, power_data[disp_size])\n",
        "power_data[disp_size] = np.where(power_data[disp_size].between(21.0001,32), 1.15, power_data[disp_size])\n",
        "power_data[disp_size] = np.where(power_data[disp_size]>32, 1.2, power_data[disp_size])\n",
        "\n",
        "# Transform resolution\n",
        "resolution = \"Census_InternalPrimaryDisplayResolutionVertical\"\n",
        "power_data[resolution] = power_data[resolution].fillna(1) # it doesn't matter since use will transform using range after that\n",
        "power_data[resolution] = np.where(power_data[resolution] <=768, 1, power_data[resolution])\n",
        "power_data[resolution] = np.where(power_data[resolution].between(760.0001,1080), 1.1, power_data[resolution])\n",
        "power_data[resolution] = np.where(power_data[resolution].between(1080.0001, 1440), 1.15, power_data[resolution])\n",
        "power_data[resolution] = np.where(power_data[resolution].between(1440.0001,2160), 1.2, power_data[resolution])\n",
        "power_data[resolution] = np.where(power_data[resolution]> 2160, 1.3, power_data[resolution])\n",
        "\n",
        "#Transform disk capacity\n",
        "disk_capacity = \"Census_PrimaryDiskTotalCapacity\"\n",
        "power_data[disk_capacity] = power_data[disk_capacity].fillna(power_data[disk_capacity].median())\n",
        "power_data[disk_capacity] = power_data[disk_capacity] / 1024\n",
        "power_data[disk_capacity] = np.where(power_data[disk_capacity].between(0,128), 0.9, power_data[disk_capacity])\n",
        "power_data[disk_capacity] = np.where(power_data[disk_capacity].between(128.0001, 256), 1, power_data[disk_capacity])\n",
        "power_data[disk_capacity] = np.where(power_data[disk_capacity].between(256.0001, 512), 1.1, power_data[disk_capacity])\n",
        "power_data[disk_capacity] = np.where(power_data[disk_capacity].between(512.0001, 1024), 1.2, power_data[disk_capacity])\n",
        "power_data[disk_capacity] = np.where(power_data[disk_capacity] > 1024, 1.25, power_data[disk_capacity])\n",
        "\n",
        "# Gaming machines has 1.125 time more power than the regular ones\n",
        "power_data[\"Wdft_IsGamer\"] = power_data[\"Wdft_IsGamer\"].fillna(0.0) # Better to be non-gaming machine\n",
        "power_data[\"Wdft_IsGamer\"] = power_data[\"Wdft_IsGamer\"]/8 + 1"
      ],
      "id": "M-tFQoReev0a",
      "execution_count": 15,
      "outputs": []
    },
    {
      "cell_type": "markdown",
      "metadata": {
        "id": "kUROTRFHx168"
      },
      "source": [
        "Form the new `computer_power` column and evaluate its stats."
      ],
      "id": "kUROTRFHx168"
    },
    {
      "cell_type": "code",
      "metadata": {
        "id": "4m89FY3joSqb"
      },
      "source": [
        "power_data[\"computer_power\"] = power_data.prod(axis=1)"
      ],
      "id": "4m89FY3joSqb",
      "execution_count": 16,
      "outputs": []
    },
    {
      "cell_type": "code",
      "metadata": {
        "colab": {
          "base_uri": "https://localhost:8080/"
        },
        "id": "aIiyHMl3oKJV",
        "outputId": "8c150ccf-5a31-4c79-f176-78512dd1c64f"
      },
      "source": [
        "# Stats\n",
        "print(\"Mean:\", power_data[\"computer_power\"].mean())\n",
        "print(\"Std:\", power_data[\"computer_power\"].std())\n",
        "print(\"Median:\", power_data[\"computer_power\"].median())"
      ],
      "id": "aIiyHMl3oKJV",
      "execution_count": 17,
      "outputs": [
        {
          "output_type": "stream",
          "name": "stdout",
          "text": [
            "Mean: 48.781966045120285\n",
            "Std: 109.78698285755306\n",
            "Median: 21.77226609690115\n"
          ]
        }
      ]
    },
    {
      "cell_type": "code",
      "metadata": {
        "colab": {
          "base_uri": "https://localhost:8080/",
          "height": 312
        },
        "id": "KKQP31me-qh6",
        "outputId": "b217c63f-52c6-41c4-f51e-8dc4b86f6a71"
      },
      "source": [
        "# Plot the histogram\n",
        "plt.hist(power_data[\"computer_power\"], bins=60, density=True)\n",
        "plt.title('Histogram of Computer Power')\n",
        "plt.ylabel(\"Density\")\n",
        "plt.xlabel(\"Computer Power\")\n",
        "plt.plot()"
      ],
      "id": "KKQP31me-qh6",
      "execution_count": 18,
      "outputs": [
        {
          "output_type": "execute_result",
          "data": {
            "text/plain": [
              "[]"
            ]
          },
          "metadata": {},
          "execution_count": 18
        },
        {
          "output_type": "display_data",
          "data": {
            "image/png": "[encoded data removed]",
            "text/plain": [
              "<Figure size 432x288 with 1 Axes>"
            ]
          },
          "metadata": {
            "needs_background": "light"
          }
        }
      ]
    },
    {
      "cell_type": "markdown",
      "metadata": {
        "id": "1-lOq0pez7q6"
      },
      "source": [
        "As we can see, the distribution is skewed to the left, as most of the machines are in some range. It looks like Beta distribution, so why not take a log of it."
      ],
      "id": "1-lOq0pez7q6"
    },
    {
      "cell_type": "code",
      "metadata": {
        "colab": {
          "base_uri": "https://localhost:8080/",
          "height": 312
        },
        "id": "19gyClKe-qZg",
        "outputId": "d482cd86-37ee-4e2c-894f-3f296e8acc2d"
      },
      "source": [
        "_, bins, _ = plt.hist(np.log(power_data[\"computer_power\"]), bins=26, density=True, ec='black')\n",
        "plt.title('Histogram of Computer Power - Log Scale')\n",
        "plt.ylabel(\"Density\")\n",
        "plt.xlabel(\"Computer Power (Log Scale)\")\n",
        "plt.plot()"
      ],
      "id": "19gyClKe-qZg",
      "execution_count": 19,
      "outputs": [
        {
          "output_type": "execute_result",
          "data": {
            "text/plain": [
              "[]"
            ]
          },
          "metadata": {},
          "execution_count": 19
        },
        {
          "output_type": "display_data",
          "data": {
            "image/png": "[encoded data removed]",
            "text/plain": [
              "<Figure size 432x288 with 1 Axes>"
            ]
          },
          "metadata": {
            "needs_background": "light"
          }
        }
      ]
    },
    {
      "cell_type": "code",
      "metadata": {
        "colab": {
          "base_uri": "https://localhost:8080/"
        },
        "id": "-vhwtUCV_k81",
        "outputId": "f4c88af1-8ea7-40c7-e323-8b152daa54e3"
      },
      "source": [
        "bins"
      ],
      "id": "-vhwtUCV_k81",
      "execution_count": 20,
      "outputs": [
        {
          "output_type": "execute_result",
          "data": {
            "text/plain": [
              "array([-1.19187031, -0.76389542, -0.33592054,  0.09205435,  0.52002923,\n",
              "        0.94800411,  1.375979  ,  1.80395388,  2.23192877,  2.65990365,\n",
              "        3.08787854,  3.51585342,  3.94382831,  4.37180319,  4.79977808,\n",
              "        5.22775296,  5.65572785,  6.08370273,  6.51167761,  6.9396525 ,\n",
              "        7.36762738,  7.79560227,  8.22357715,  8.65155204,  9.07952692,\n",
              "        9.50750181,  9.93547669])"
            ]
          },
          "metadata": {},
          "execution_count": 20
        }
      ]
    },
    {
      "cell_type": "markdown",
      "metadata": {
        "id": "JH4014el0jde"
      },
      "source": [
        "The distribution now has the shape of bell curve from Normal Distribution."
      ],
      "id": "JH4014el0jde"
    },
    {
      "cell_type": "markdown",
      "metadata": {
        "id": "T05r_Rwz0Vcr"
      },
      "source": [
        "## 2b"
      ],
      "id": "T05r_Rwz0Vcr"
    },
    {
      "cell_type": "code",
      "metadata": {
        "id": "D3GIp04s4dcx"
      },
      "source": [
        "# First, add the HasDetections column to the DataFrame\n",
        "power_data[\"HasDetections\"] = data[\"HasDetections\"]\n",
        "\n",
        "# Then drop all columns except computer_power and HasDetections to free the memory.\n",
        "power_data = power_data[[\"computer_power\", \"HasDetections\"]]"
      ],
      "id": "D3GIp04s4dcx",
      "execution_count": 21,
      "outputs": []
    },
    {
      "cell_type": "code",
      "metadata": {
        "id": "55Z4OIXkE4s8"
      },
      "source": [
        "power_data[\"computer_power\"] = np.log(power_data[\"computer_power\"])"
      ],
      "id": "55Z4OIXkE4s8",
      "execution_count": 22,
      "outputs": []
    },
    {
      "cell_type": "code",
      "metadata": {
        "colab": {
          "base_uri": "https://localhost:8080/"
        },
        "id": "vLyy0euR7KN-",
        "outputId": "fd02e20e-f939-4c2a-a05c-0d1e5f4cc959"
      },
      "source": [
        "# First, we take bins variable from log scale histogram to count the number of machines in each bin\n",
        "num_machine_perbin = power_data[\"computer_power\"].value_counts(bins=bins, sort=False).to_numpy()\n",
        "num_machine_perbin"
      ],
      "id": "vLyy0euR7KN-",
      "execution_count": 24,
      "outputs": [
        {
          "output_type": "execute_result",
          "data": {
            "text/plain": [
              "array([      6,      43,    2219,   15374,   34832,   61524,  580869,\n",
              "        499774, 1420355, 1992901, 1202790, 1088544,  887756,  491564,\n",
              "        211437,  236398,  100138,   64236,   18279,    7537,    2755,\n",
              "          1528,     456,     127,      35,       6])"
            ]
          },
          "metadata": {},
          "execution_count": 24
        }
      ]
    },
    {
      "cell_type": "code",
      "metadata": {
        "colab": {
          "base_uri": "https://localhost:8080/"
        },
        "id": "qNgT6Vay7dOJ",
        "outputId": "2c09c362-8cb5-4f1d-d857-d2a3cf629353"
      },
      "source": [
        "# Then, count the number of infected machines per bin\n",
        "num_infected_perbin = power_data[power_data[\"HasDetections\"]==1][\"computer_power\"].value_counts(bins=bins, sort=False).to_numpy()\n",
        "num_infected_perbin"
      ],
      "id": "qNgT6Vay7dOJ",
      "execution_count": 25,
      "outputs": [
        {
          "output_type": "execute_result",
          "data": {
            "text/plain": [
              "array([     2,      5,    498,   3822,  10525,  18746, 242896, 217120,\n",
              "       649128, 996184, 617752, 579857, 483398, 270396, 120712, 135325,\n",
              "        58032,  37704,  10182,   4085,   1432,    790,    221,     62,\n",
              "           17,      1])"
            ]
          },
          "metadata": {},
          "execution_count": 25
        }
      ]
    },
    {
      "cell_type": "code",
      "metadata": {
        "id": "fWPD46KW9GSA"
      },
      "source": [
        "# I will use mean of each bin to represent as x_axis\n",
        "x_axis = (bins[1:] + bins[:-1])/2"
      ],
      "id": "fWPD46KW9GSA",
      "execution_count": 26,
      "outputs": []
    },
    {
      "cell_type": "code",
      "metadata": {
        "colab": {
          "base_uri": "https://localhost:8080/",
          "height": 312
        },
        "id": "62mxZAkY76r3",
        "outputId": "31c8b206-2638-497b-e9d8-97b38611024f"
      },
      "source": [
        "plt.plot(x_axis, num_infected_perbin/num_machine_perbin, label=\"infection percentage\")\n",
        "plt.plot(x_axis, num_machine_perbin/num_machine_perbin.sum(), label=\"num machine percentage\")\n",
        "plt.axvline(x=power_data[\"computer_power\"].median(), color='r', linestyle=\"--\", label=\"power median\")\n",
        "plt.title('Computer Power vs Infection Percentage')\n",
        "plt.ylabel(\"Percentage\")\n",
        "plt.xlabel(\"Computer Power (Log Scale)\")\n",
        "plt.legend(loc=(1.04,0))\n",
        "plt.plot()"
      ],
      "id": "62mxZAkY76r3",
      "execution_count": 27,
      "outputs": [
        {
          "output_type": "execute_result",
          "data": {
            "text/plain": [
              "[]"
            ]
          },
          "metadata": {},
          "execution_count": 27
        },
        {
          "output_type": "display_data",
          "data": {
            "image/png": "[encoded data removed]",
            "text/plain": [
              "<Figure size 432x288 with 1 Axes>"
            ]
          },
          "metadata": {
            "needs_background": "light"
          }
        }
      ]
    },
    {
      "cell_type": "markdown",
      "metadata": {
        "id": "8wg32RJmIFn_"
      },
      "source": [
        "So, the graph has 3 lines. First, using num machine percentage line and focusing around the range of computer power from 1 to 5, where has the most data, we can see that less power machine is also less likely to be infected by malwares. When the machine power increases, also the infection percentage increases, but at a point, around 7, machines are become less likely to get malwares as the power going up. Besides, the most powerful machines are much stronger against malicous programs."
      ],
      "id": "8wg32RJmIFn_"
    },
    {
      "cell_type": "code",
      "metadata": {
        "id": "W3ZqKEFiNLZO"
      },
      "source": [
        "# delete dataframe to free up memory\n",
        "del power_data"
      ],
      "id": "W3ZqKEFiNLZO",
      "execution_count": 28,
      "outputs": []
    },
    {
      "cell_type": "markdown",
      "metadata": {
        "id": "dietary-madness"
      },
      "source": [
        "# Section 3: OS version vs Malware detected (Q3)"
      ],
      "id": "dietary-madness"
    },
    {
      "cell_type": "code",
      "metadata": {
        "id": "juvenile-demonstration"
      },
      "source": [
        "num_machines_per_osbuild = data[\"Census_OSBuildNumber\"].value_counts(sort=False).to_numpy()\n",
        "num_infected_per_osbuild = data[data[\"HasDetections\"] == 1][\"Census_OSBuildNumber\"].value_counts(sort=False).to_numpy()"
      ],
      "id": "juvenile-demonstration",
      "execution_count": 119,
      "outputs": []
    },
    {
      "cell_type": "code",
      "metadata": {
        "id": "MvQYJ4OURZK8"
      },
      "source": [
        "infected_machines = data[data[\"HasDetections\"] == 1][\"Census_OSBuildNumber\"].value_counts(sort=False)"
      ],
      "id": "MvQYJ4OURZK8",
      "execution_count": 120,
      "outputs": []
    },
    {
      "cell_type": "code",
      "metadata": {
        "id": "f-YWZb1uRFuj"
      },
      "source": [
        "x_axis = data[\"Census_OSBuildNumber\"].value_counts(sort=False).sort_index().index"
      ],
      "id": "f-YWZb1uRFuj",
      "execution_count": 121,
      "outputs": []
    },
    {
      "cell_type": "code",
      "metadata": {
        "id": "bK9Ye4d6QCbY"
      },
      "source": [
        "total_machine = data[\"Census_OSBuildNumber\"].value_counts(sort=False)"
      ],
      "id": "bK9Ye4d6QCbY",
      "execution_count": 122,
      "outputs": []
    },
    {
      "cell_type": "code",
      "metadata": {
        "id": "pmxB3dt9SxwD"
      },
      "source": [
        "per_infected = []\n",
        "for i in x_axis:\n",
        "    if i in infected_machines:\n",
        "        per_infected.append(infected_machines[i]/total_machine[i])\n",
        "    else:\n",
        "        per_infected.append(0)"
      ],
      "id": "pmxB3dt9SxwD",
      "execution_count": 123,
      "outputs": []
    },
    {
      "cell_type": "code",
      "metadata": {
        "id": "XSxpFYV8VSPI"
      },
      "source": [
        "infected_machines_per_os = []\n",
        "for i in x_axis:\n",
        "    if i in infected_machines:\n",
        "        infected_machines_per_os.append(infected_machines[i])\n",
        "    else:\n",
        "        infected_machines_per_os.append(0)"
      ],
      "id": "XSxpFYV8VSPI",
      "execution_count": 124,
      "outputs": []
    },
    {
      "cell_type": "code",
      "metadata": {
        "id": "elder-producer",
        "colab": {
          "base_uri": "https://localhost:8080/",
          "height": 382
        },
        "outputId": "5ce0921d-a141-446d-bb7e-932230ba59f8"
      },
      "source": [
        "plt.figure(figsize=(12,5))\n",
        "plt.plot(x_axis, per_infected)\n",
        "plt.title('Census_OSBuildNumber vs Infection Percentage', pad=20)\n",
        "plt.ylabel(\"Infection Percentage\")\n",
        "plt.xlabel(\"Census_OSBuildNumber\")\n",
        "plt.plot()"
      ],
      "id": "elder-producer",
      "execution_count": 125,
      "outputs": [
        {
          "output_type": "execute_result",
          "data": {
            "text/plain": [
              "[]"
            ]
          },
          "metadata": {},
          "execution_count": 125
        },
        {
          "output_type": "display_data",
          "data": {
            "image/png": "[encoded data removed]",
            "text/plain": [
              "<Figure size 864x360 with 1 Axes>"
            ]
          },
          "metadata": {
            "needs_background": "light"
          }
        }
      ]
    },
    {
      "cell_type": "markdown",
      "metadata": {
        "id": "EHcRvOCGi2Vv"
      },
      "source": [
        "The plot is so weird and hard to interprete. Because we treat OSBuildNumber as continuous variable, while in fact, they should be categorical variable with chronological meaning. So I will treat them as categorical data to see what happen. "
      ],
      "id": "EHcRvOCGi2Vv"
    },
    {
      "cell_type": "code",
      "metadata": {
        "colab": {
          "base_uri": "https://localhost:8080/",
          "height": 382
        },
        "id": "afxLS730XGWL",
        "outputId": "5e604baa-72b6-4d81-a60a-f25b9592cb8a"
      },
      "source": [
        "plt.figure(figsize=(16,5))\n",
        "plt.bar(np.arange(0,len(x_axis)), per_infected)\n",
        "plt.title('Census_OSBuildNumber vs Infection Percentage (Treat as Categories)', pad=20)\n",
        "plt.ylabel(\"Infection Percentage\")\n",
        "plt.xlabel(\"Census_OSBuildNumber\")\n",
        "plt.plot()"
      ],
      "id": "afxLS730XGWL",
      "execution_count": 126,
      "outputs": [
        {
          "output_type": "execute_result",
          "data": {
            "text/plain": [
              "[]"
            ]
          },
          "metadata": {},
          "execution_count": 126
        },
        {
          "output_type": "display_data",
          "data": {
            "image/png": "[encoded data removed]",
            "text/plain": [
              "<Figure size 1152x360 with 1 Axes>"
            ]
          },
          "metadata": {
            "needs_background": "light"
          }
        }
      ]
    },
    {
      "cell_type": "markdown",
      "metadata": {
        "id": "L1YpE2f2jXSC"
      },
      "source": [
        "Now it's much easier to read. We can see that the left area is more dense, thus it tends to have higher percentage of infection. This aligns with my thoughts that old devices are more vulnerable to malwares."
      ],
      "id": "L1YpE2f2jXSC"
    },
    {
      "cell_type": "code",
      "metadata": {
        "id": "explicit-rochester"
      },
      "source": [
        "infected_machines = infected_machines.to_numpy() "
      ],
      "id": "explicit-rochester",
      "execution_count": 127,
      "outputs": []
    },
    {
      "cell_type": "code",
      "metadata": {
        "colab": {
          "base_uri": "https://localhost:8080/",
          "height": 382
        },
        "id": "ddrSJzRvUzbj",
        "outputId": "2adc2313-29e4-408b-fabe-255980b98001"
      },
      "source": [
        "plt.figure(figsize=(12,5))\n",
        "plt.plot(x_axis, infected_machines_per_os)\n",
        "plt.title('Census_OSBuildNumber vs Number of Infected Machines', pad=20)\n",
        "plt.ylabel(\"Number of Infected Machines\")\n",
        "plt.xlabel(\"Census_OSBuildNumber\")\n",
        "plt.plot()"
      ],
      "id": "ddrSJzRvUzbj",
      "execution_count": 128,
      "outputs": [
        {
          "output_type": "execute_result",
          "data": {
            "text/plain": [
              "[]"
            ]
          },
          "metadata": {},
          "execution_count": 128
        },
        {
          "output_type": "display_data",
          "data": {
            "image/png": "[encoded data removed]",
            "text/plain": [
              "<Figure size 864x360 with 1 Axes>"
            ]
          },
          "metadata": {
            "needs_background": "light"
          }
        }
      ]
    },
    {
      "cell_type": "markdown",
      "metadata": {
        "id": "lAMEWtbljrFg"
      },
      "source": [
        "Same as the previous plot, it just hard to read when we treat BuildNumber as continuous variable."
      ],
      "id": "lAMEWtbljrFg"
    },
    {
      "cell_type": "code",
      "metadata": {
        "colab": {
          "base_uri": "https://localhost:8080/",
          "height": 382
        },
        "id": "Ntgf7y-IWk98",
        "outputId": "7051b4e7-f9d6-4582-dbe3-3645bb5aeba8"
      },
      "source": [
        "plt.figure(figsize=(16,5))\n",
        "infected_machines_per_os = np.array(infected_machines_per_os)\n",
        "plt.bar(np.arange(0, len(x_axis)), np.log(np.where(infected_machines_per_os == 0, 1, infected_machines_per_os)))\n",
        "plt.title('Census_OSBuildNumber vs Number of Infected Machines (Treat as Categories)', pad=20)\n",
        "plt.ylabel(\"Number of Infected Machines\")\n",
        "plt.xlabel(\"Census_OSBuildNumber\")\n",
        "plt.plot()"
      ],
      "id": "Ntgf7y-IWk98",
      "execution_count": 139,
      "outputs": [
        {
          "output_type": "execute_result",
          "data": {
            "text/plain": [
              "[]"
            ]
          },
          "metadata": {},
          "execution_count": 139
        },
        {
          "output_type": "display_data",
          "data": {
            "image/png": "[encoded data removed]",
            "text/plain": [
              "<Figure size 1152x360 with 1 Axes>"
            ]
          },
          "metadata": {
            "needs_background": "light"
          }
        }
      ]
    },
    {
      "cell_type": "markdown",
      "metadata": {
        "id": "hA72Dx8lj3D3"
      },
      "source": [
        "With this log scale plot, we can see that some particular version have very large number of infected machines. While the newer OS Builds also have a higher total of infected machines. The reason maybe many machines are updated to the newer/newest OSBuild so the total of machines is large, hence the number of infected machines is high."
      ],
      "id": "hA72Dx8lj3D3"
    },
    {
      "cell_type": "markdown",
      "metadata": {
        "id": "jRRe_EyW9yC7"
      },
      "source": [
        "## Census_OSBuildRevision"
      ],
      "id": "jRRe_EyW9yC7"
    },
    {
      "cell_type": "code",
      "metadata": {
        "id": "9B1V1Gh6YLDf"
      },
      "source": [
        "num_machines_per_osbuild = data[\"Census_OSBuildRevision\"].value_counts(sort=False).to_numpy()\n",
        "num_infected_per_osbuild = data[data[\"HasDetections\"] == 1][\"Census_OSBuildRevision\"].value_counts(sort=False).to_numpy()\n",
        "\n",
        "infected_machines = data[data[\"HasDetections\"] == 1][\"Census_OSBuildRevision\"].value_counts(sort=False)\n",
        "x_axis = data[\"Census_OSBuildRevision\"].value_counts(sort=False).sort_index().index\n",
        "total_machine = data[\"Census_OSBuildRevision\"].value_counts(sort=False)"
      ],
      "id": "9B1V1Gh6YLDf",
      "execution_count": 40,
      "outputs": []
    },
    {
      "cell_type": "code",
      "metadata": {
        "id": "5-ylMTejYKz-"
      },
      "source": [
        "per_infected = []\n",
        "for i in x_axis:\n",
        "    if i in infected_machines:\n",
        "        per_infected.append(infected_machines[i]/total_machine[i])\n",
        "    else:\n",
        "        per_infected.append(0)"
      ],
      "id": "5-ylMTejYKz-",
      "execution_count": 41,
      "outputs": []
    },
    {
      "cell_type": "code",
      "metadata": {
        "id": "xS9Grm0IYKk7"
      },
      "source": [
        "infected_machines_per_os = []\n",
        "for i in x_axis:\n",
        "    if i in infected_machines:\n",
        "        infected_machines_per_os.append(infected_machines[i])\n",
        "    else:\n",
        "        infected_machines_per_os.append(0)\n",
        "\n",
        "infected_machines_per_os = np.array(infected_machines_per_os)"
      ],
      "id": "xS9Grm0IYKk7",
      "execution_count": 42,
      "outputs": []
    },
    {
      "cell_type": "code",
      "metadata": {
        "colab": {
          "base_uri": "https://localhost:8080/",
          "height": 382
        },
        "id": "elp3IMBXYKVR",
        "outputId": "506078af-bca1-487c-c413-1c6f47f780b9"
      },
      "source": [
        "plt.figure(figsize=(12,5))\n",
        "plt.plot(x_axis, per_infected)\n",
        "plt.title('Census_OSBuildRevision vs Infection Percentage', pad=20)\n",
        "plt.ylabel(\"Infection Percentage\")\n",
        "plt.xlabel(\"Census_OSBuildRevision\")\n",
        "plt.plot()"
      ],
      "id": "elp3IMBXYKVR",
      "execution_count": 43,
      "outputs": [
        {
          "output_type": "execute_result",
          "data": {
            "text/plain": [
              "[]"
            ]
          },
          "metadata": {},
          "execution_count": 43
        },
        {
          "output_type": "display_data",
          "data": {
            "image/png": "[encoded data removed]",
            "text/plain": [
              "<Figure size 864x360 with 1 Axes>"
            ]
          },
          "metadata": {
            "needs_background": "light"
          }
        }
      ]
    },
    {
      "cell_type": "code",
      "metadata": {
        "colab": {
          "base_uri": "https://localhost:8080/",
          "height": 382
        },
        "id": "5jKyW20hZhGL",
        "outputId": "37f80900-39c8-4a64-b4c7-02fef868c522"
      },
      "source": [
        "plt.figure(figsize=(16,5))\n",
        "plt.bar(np.arange(0,len(x_axis)), per_infected)\n",
        "plt.title('Census_OSBuildRevision vs Infection Percentage (Treat as Categories)', pad=20)\n",
        "plt.ylabel(\"Infection Percentage\")\n",
        "plt.xlabel(\"Census_OSBuildRevision\")\n",
        "plt.plot()"
      ],
      "id": "5jKyW20hZhGL",
      "execution_count": 44,
      "outputs": [
        {
          "output_type": "execute_result",
          "data": {
            "text/plain": [
              "[]"
            ]
          },
          "metadata": {},
          "execution_count": 44
        },
        {
          "output_type": "display_data",
          "data": {
            "image/png": "[encoded data removed]",
            "text/plain": [
              "<Figure size 1152x360 with 1 Axes>"
            ]
          },
          "metadata": {
            "needs_background": "light"
          }
        }
      ]
    },
    {
      "cell_type": "markdown",
      "metadata": {
        "id": "ZYV2fR7nkXWS"
      },
      "source": [
        "Some builds have very high infection percentage. It might be a good signal to build a model, OR it's just because these builds have a very small number of machines still use it. \n",
        "\n",
        "But we definitely see that with the more recent builds, the infection percentage is also higher. And we are pretty sure that recent builds are appeared in most of machines. Thus, I think in some senses, it indicates that either malwares target on newer OSBuilds or the newer OSBuilds are actually more vulnerable to malwares."
      ],
      "id": "ZYV2fR7nkXWS"
    },
    {
      "cell_type": "code",
      "metadata": {
        "colab": {
          "base_uri": "https://localhost:8080/",
          "height": 382
        },
        "id": "EkE4l4EZZQI0",
        "outputId": "81f1fcc9-2ee7-491b-ee91-5caffa500836"
      },
      "source": [
        "plt.figure(figsize=(12,5))\n",
        "plt.plot(x_axis, infected_machines_per_os)\n",
        "plt.title('Census_OSBuildRevision vs Number of Infected Machines', pad=20)\n",
        "plt.ylabel(\"Number of Infected Machines\")\n",
        "plt.xlabel(\"Census_OSBuildRevision\")\n",
        "plt.plot()"
      ],
      "id": "EkE4l4EZZQI0",
      "execution_count": 45,
      "outputs": [
        {
          "output_type": "execute_result",
          "data": {
            "text/plain": [
              "[]"
            ]
          },
          "metadata": {},
          "execution_count": 45
        },
        {
          "output_type": "display_data",
          "data": {
            "image/png": "[encoded data removed]",
            "text/plain": [
              "<Figure size 864x360 with 1 Axes>"
            ]
          },
          "metadata": {
            "needs_background": "light"
          }
        }
      ]
    },
    {
      "cell_type": "code",
      "metadata": {
        "colab": {
          "base_uri": "https://localhost:8080/",
          "height": 382
        },
        "id": "YOz95APBZuJQ",
        "outputId": "7b4ba516-da49-444e-8903-c2e0e9962a59"
      },
      "source": [
        "plt.figure(figsize=(16,5))\n",
        "plt.bar(np.arange(0, len(x_axis)), np.log(np.where(infected_machines_per_os == 0, 1, infected_machines_per_os)))\n",
        "plt.title('Census_OSBuildRevision vs Number of Infected Machines (Treat as Categories)', pad=20)\n",
        "plt.ylabel(\"Number of Infected Machines\")\n",
        "plt.xlabel(\"Census_OSBuildRevision\")\n",
        "plt.plot()"
      ],
      "id": "YOz95APBZuJQ",
      "execution_count": 46,
      "outputs": [
        {
          "output_type": "execute_result",
          "data": {
            "text/plain": [
              "[]"
            ]
          },
          "metadata": {},
          "execution_count": 46
        },
        {
          "output_type": "display_data",
          "data": {
            "image/png": "[encoded data removed]",
            "text/plain": [
              "<Figure size 1152x360 with 1 Axes>"
            ]
          },
          "metadata": {
            "needs_background": "light"
          }
        }
      ]
    },
    {
      "cell_type": "markdown",
      "metadata": {
        "id": "THOd7b3GlICl"
      },
      "source": [
        "From the plot, I think we can inference that the old OSBuildRevisions are likely to get infected."
      ],
      "id": "THOd7b3GlICl"
    },
    {
      "cell_type": "markdown",
      "metadata": {
        "id": "brown-grade"
      },
      "source": [
        "# Section 4: Effect of Number of AV Products Installed (Q4)"
      ],
      "id": "brown-grade"
    },
    {
      "cell_type": "code",
      "metadata": {
        "colab": {
          "base_uri": "https://localhost:8080/"
        },
        "id": "kDI3X3T7rbNs",
        "outputId": "04eba710-288b-4bd9-8153-20c0b2d1b5ef"
      },
      "source": [
        "# First, let's count the number of machines per number of AVs installed.\n",
        "data[\"AVProductsInstalled\"].value_counts(sort=False).sort_index()"
      ],
      "id": "kDI3X3T7rbNs",
      "execution_count": 47,
      "outputs": [
        {
          "output_type": "execute_result",
          "data": {
            "text/plain": [
              "0.0          1\n",
              "1.0    6208893\n",
              "2.0    2459008\n",
              "3.0     208103\n",
              "4.0       8757\n",
              "5.0        471\n",
              "6.0         28\n",
              "7.0          1\n",
              "Name: AVProductsInstalled, dtype: int64"
            ]
          },
          "metadata": {},
          "execution_count": 47
        }
      ]
    },
    {
      "cell_type": "code",
      "metadata": {
        "id": "EXb_HkRWorwY"
      },
      "source": [
        "total_machines_per_numAV = data[\"AVProductsInstalled\"].value_counts(sort=False).sort_index().to_numpy()\n",
        "x_axis = data[\"AVProductsInstalled\"].value_counts(sort=False).sort_index().index"
      ],
      "id": "EXb_HkRWorwY",
      "execution_count": 48,
      "outputs": []
    },
    {
      "cell_type": "code",
      "metadata": {
        "id": "5r2S3F2JqPWJ"
      },
      "source": [
        "infected_machines_per_numAV = []\n",
        "infected_numAV = data[data[\"HasDetections\"] == 1][\"AVProductsInstalled\"].value_counts(sort=False)\n",
        "for i in x_axis:\n",
        "    if i in infected_numAV:\n",
        "        infected_machines_per_numAV.append(infected_numAV[i])\n",
        "    else:\n",
        "        infected_machines_per_numAV.append(0)\n",
        "\n",
        "infected_machines_per_numAV = np.array(infected_machines_per_numAV)"
      ],
      "id": "5r2S3F2JqPWJ",
      "execution_count": 49,
      "outputs": []
    },
    {
      "cell_type": "code",
      "metadata": {
        "colab": {
          "base_uri": "https://localhost:8080/",
          "height": 326
        },
        "id": "AshhX_PA0y_C",
        "outputId": "df5ebd86-7386-4d60-82fc-d0a453306732"
      },
      "source": [
        "plt.bar(x_axis, infected_machines_per_numAV, 0.6)\n",
        "plt.title('Number of Infected Machines vs Nums AVs', pad=20)\n",
        "plt.ylabel(\"No Machines\")\n",
        "plt.xlabel(\"Number of AVs\")\n",
        "plt.grid(linestyle=\"dotted\", axis=\"y\")\n",
        "plt.plot()"
      ],
      "id": "AshhX_PA0y_C",
      "execution_count": 50,
      "outputs": [
        {
          "output_type": "execute_result",
          "data": {
            "text/plain": [
              "[]"
            ]
          },
          "metadata": {},
          "execution_count": 50
        },
        {
          "output_type": "display_data",
          "data": {
            "image/png": "[encoded data removed]",
            "text/plain": [
              "<Figure size 432x288 with 1 Axes>"
            ]
          },
          "metadata": {
            "needs_background": "light"
          }
        }
      ]
    },
    {
      "cell_type": "markdown",
      "metadata": {
        "id": "TGR0I8OUlet6"
      },
      "source": [
        "From this figure, we can see that with 1 AV installed have far higher number of infected machines. The reason may be that most machines only install one AV, then the number of infected machines followed. "
      ],
      "id": "TGR0I8OUlet6"
    },
    {
      "cell_type": "code",
      "metadata": {
        "colab": {
          "base_uri": "https://localhost:8080/",
          "height": 326
        },
        "id": "kcMxET5gsKXt",
        "outputId": "e09fadd1-c767-4a96-a270-1a3595d84050"
      },
      "source": [
        "plt.bar(x_axis, infected_machines_per_numAV/total_machines_per_numAV, 0.6)\n",
        "plt.title('Infection rate per Number of AV(s)', pad=20)\n",
        "plt.ylabel(\"Infection Percentage\")\n",
        "plt.xlabel(\"Number of AV(s)\")\n",
        "plt.grid(linestyle=\"dotted\", axis=\"y\")\n",
        "plt.plot()"
      ],
      "id": "kcMxET5gsKXt",
      "execution_count": 51,
      "outputs": [
        {
          "output_type": "execute_result",
          "data": {
            "text/plain": [
              "[]"
            ]
          },
          "metadata": {},
          "execution_count": 51
        },
        {
          "output_type": "display_data",
          "data": {
            "image/png": "[encoded data removed]",
            "text/plain": [
              "<Figure size 432x288 with 1 Axes>"
            ]
          },
          "metadata": {
            "needs_background": "light"
          }
        }
      ]
    },
    {
      "cell_type": "markdown",
      "metadata": {
        "id": "6dsaYIeCl9XD"
      },
      "source": [
        "So to better understand, I plot the percentage of malwares infection per num AVs. Except 0 and 7, where only have 1 machines, we can see a pattern that **the more number of AVs installed, the less likely the machines got malwares**. But maybe the percentage data is spoiled on 4, 5, 6 where there are very few datapoints compared to others."
      ],
      "id": "6dsaYIeCl9XD"
    },
    {
      "cell_type": "markdown",
      "metadata": {
        "id": "ynfUt-eDmZvd"
      },
      "source": [
        "One more feature that can say something about num of AVs is IsProtected. So basically, if the value is 1, then the machines have the highest/strongest protection against malwares."
      ],
      "id": "ynfUt-eDmZvd"
    },
    {
      "cell_type": "code",
      "metadata": {
        "id": "blocked-title",
        "colab": {
          "base_uri": "https://localhost:8080/"
        },
        "outputId": "2a0e9040-4220-4fd6-b616-d236e6e33fe2"
      },
      "source": [
        "total_protected, total_unprotected = data[\"IsProtected\"].value_counts(sort=False).to_numpy()\n",
        "data[\"IsProtected\"].value_counts(sort=False)"
      ],
      "id": "blocked-title",
      "execution_count": 52,
      "outputs": [
        {
          "output_type": "execute_result",
          "data": {
            "text/plain": [
              "0.0     483157\n",
              "1.0    8402282\n",
              "Name: IsProtected, dtype: int64"
            ]
          },
          "metadata": {},
          "execution_count": 52
        }
      ]
    },
    {
      "cell_type": "code",
      "metadata": {
        "colab": {
          "base_uri": "https://localhost:8080/"
        },
        "id": "lLgl3BI9VJQN",
        "outputId": "de0e3209-668d-46ce-890e-75c5b03964d0"
      },
      "source": [
        "total_normal_0, total_infected_0 = data[data[\"IsProtected\"] == 0][\"HasDetections\"].value_counts(sort=False).to_numpy()\n",
        "data[data[\"IsProtected\"] == 0][\"HasDetections\"].value_counts(sort=False)"
      ],
      "id": "lLgl3BI9VJQN",
      "execution_count": 53,
      "outputs": [
        {
          "output_type": "execute_result",
          "data": {
            "text/plain": [
              "0    298904\n",
              "1    184253\n",
              "Name: HasDetections, dtype: int64"
            ]
          },
          "metadata": {},
          "execution_count": 53
        }
      ]
    },
    {
      "cell_type": "code",
      "metadata": {
        "colab": {
          "base_uri": "https://localhost:8080/"
        },
        "id": "z2KQzlZNV6Sc",
        "outputId": "055b2626-36c6-482d-f8c6-baa2e90e5854"
      },
      "source": [
        "total_normal_1, total_infected_1 = data[data[\"IsProtected\"] == 1][\"HasDetections\"].value_counts(sort=False)\n",
        "data[data[\"IsProtected\"] == 1][\"HasDetections\"].value_counts(sort=False)"
      ],
      "id": "z2KQzlZNV6Sc",
      "execution_count": 54,
      "outputs": [
        {
          "output_type": "execute_result",
          "data": {
            "text/plain": [
              "0    4141184\n",
              "1    4261098\n",
              "Name: HasDetections, dtype: int64"
            ]
          },
          "metadata": {},
          "execution_count": 54
        }
      ]
    },
    {
      "cell_type": "code",
      "metadata": {
        "colab": {
          "base_uri": "https://localhost:8080/",
          "height": 295
        },
        "id": "f6v3uR01wca-",
        "outputId": "0099b543-195f-435e-a890-c95cbe1660b6"
      },
      "source": [
        "fig, ax = plt.subplots()\n",
        "\n",
        "ax.bar([0-0.15, 1-0.15], [total_normal_0, total_normal_1], 0.3, label=\"Clean\")\n",
        "ax.bar([0+0.15, 1+0.15], [total_infected_0, total_infected_1], 0.3, label=\"Infected\")\n",
        "ax.set_xticks([0,1])\n",
        "ax.set_xticklabels([\"AV Off\", \"AV On\"])\n",
        "ax.set_ylabel(\"Numbef of machines\")\n",
        "ax.set_title(\"Number of clean/infected machine vs IsProtected\", pad=20)\n",
        "\n",
        "ax.legend()\n",
        "plt.show()"
      ],
      "id": "f6v3uR01wca-",
      "execution_count": 55,
      "outputs": [
        {
          "output_type": "display_data",
          "data": {
            "image/png": "[encoded data removed]",
            "text/plain": [
              "<Figure size 432x288 with 1 Axes>"
            ]
          },
          "metadata": {
            "needs_background": "light"
          }
        }
      ]
    },
    {
      "cell_type": "markdown",
      "metadata": {
        "id": "OExaeHjQmnUp"
      },
      "source": [
        "But frankly, with AV On, there is more number of infected machines. "
      ],
      "id": "OExaeHjQmnUp"
    },
    {
      "cell_type": "markdown",
      "metadata": {
        "id": "LagG_XY1nEF2"
      },
      "source": [
        "So my conclusion is: **Yes, the number of AVs you use does matter**"
      ],
      "id": "LagG_XY1nEF2"
    },
    {
      "cell_type": "markdown",
      "metadata": {
        "id": "digital-manhattan"
      },
      "source": [
        "# Section 5: Interesting findings (Q5)"
      ],
      "id": "digital-manhattan"
    },
    {
      "cell_type": "code",
      "metadata": {
        "id": "cheap-prefix"
      },
      "source": [
        "use_cols = [\"AVProductsEnabled\", \"HasTpm\", \"CountryIdentifier\", \"HasDetections\"]\n",
        "q5_data = pd.read_csv('train.csv', usecols=use_cols)"
      ],
      "id": "cheap-prefix",
      "execution_count": 109,
      "outputs": []
    },
    {
      "cell_type": "markdown",
      "metadata": {
        "id": "KPvAHY-7fDsL"
      },
      "source": [
        "## Feature 1: HasTpm"
      ],
      "id": "KPvAHY-7fDsL"
    },
    {
      "cell_type": "markdown",
      "metadata": {
        "id": "AOG_jVXVmxJy"
      },
      "source": [
        "TPM Chip is a dedicated solution to fight against malwares and other malicious programs. But does it really work? Let's find out."
      ],
      "id": "AOG_jVXVmxJy"
    },
    {
      "cell_type": "code",
      "metadata": {
        "id": "cooperative-dryer"
      },
      "source": [
        "infected_tpm = q5_data[q5_data[\"HasDetections\"]==1][\"HasTpm\"].value_counts(sort=False).to_numpy()\n",
        "normal_tpm = q5_data[q5_data[\"HasDetections\"]==0][\"HasTpm\"].value_counts(sort=False).to_numpy()"
      ],
      "id": "cooperative-dryer",
      "execution_count": 110,
      "outputs": []
    },
    {
      "cell_type": "code",
      "metadata": {
        "id": "presidential-affair",
        "colab": {
          "base_uri": "https://localhost:8080/",
          "height": 295
        },
        "outputId": "005eb9c8-8561-4d42-8211-b80fc81e8e2a"
      },
      "source": [
        "fig, ax = plt.subplots()\n",
        "\n",
        "ax.bar([0-0.15, 1-0.15], normal_tpm, 0.3, label=\"Clean\")\n",
        "ax.bar([0+0.15, 1+0.15], infected_tpm, 0.3, label=\"Infected\")\n",
        "ax.set_xticks([0,1])\n",
        "ax.set_xticklabels([\"TPM Off\", \"TPM On\"])\n",
        "ax.set_ylabel(\"Numbef of machines\")\n",
        "ax.set_title(\"Number of clean/infected machine vs HasTPM\", pad=20)\n",
        "\n",
        "ax.legend()\n",
        "plt.show()"
      ],
      "id": "presidential-affair",
      "execution_count": 111,
      "outputs": [
        {
          "output_type": "display_data",
          "data": {
            "image/png": "[encoded data removed]",
            "text/plain": [
              "<Figure size 432x288 with 1 Axes>"
            ]
          },
          "metadata": {
            "needs_background": "light"
          }
        }
      ]
    },
    {
      "cell_type": "markdown",
      "metadata": {
        "id": "BSEW7OennNmx"
      },
      "source": [
        "As we can see, with or without TPM, the number of clean and infected machines are pretty the same. So it may helps with critical attacks or something else, but in general, it seems to have very modest effect."
      ],
      "id": "BSEW7OennNmx"
    },
    {
      "cell_type": "markdown",
      "metadata": {
        "id": "_cQfhC92fRnF"
      },
      "source": [
        "## Feature 2: AVProductsEnabled"
      ],
      "id": "_cQfhC92fRnF"
    },
    {
      "cell_type": "markdown",
      "metadata": {
        "id": "MafvivKKnct5"
      },
      "source": [
        "We already discussed 2 AVs related features before. But AVProductsEnabled is very strong feature to indicate the actual number of AVs that affect number of malwares."
      ],
      "id": "MafvivKKnct5"
    },
    {
      "cell_type": "code",
      "metadata": {
        "id": "cloudy-anger"
      },
      "source": [
        "total_machines_ena = q5_data[\"AVProductsEnabled\"].value_counts(sort=False).sort_index().to_numpy()\n",
        "infected_machines_ena = q5_data[q5_data[\"HasDetections\"]==1][\"AVProductsEnabled\"].value_counts(sort=False).sort_index().to_numpy()"
      ],
      "id": "cloudy-anger",
      "execution_count": 112,
      "outputs": []
    },
    {
      "cell_type": "code",
      "metadata": {
        "colab": {
          "base_uri": "https://localhost:8080/",
          "height": 326
        },
        "id": "CAHGzGQlfZcc",
        "outputId": "d4a7c7b2-fc92-4844-8718-75c34a1570cb"
      },
      "source": [
        "plt.plot(infected_machines_ena/total_machines_ena)\n",
        "plt.title('AVProductsEnabled vs Infection Percentage', pad=20)\n",
        "plt.ylabel(\"Infection Percentage\")\n",
        "plt.xlabel(\"AVProductsEnabled\")\n",
        "plt.plot()"
      ],
      "id": "CAHGzGQlfZcc",
      "execution_count": 113,
      "outputs": [
        {
          "output_type": "execute_result",
          "data": {
            "text/plain": [
              "[]"
            ]
          },
          "metadata": {},
          "execution_count": 113
        },
        {
          "output_type": "display_data",
          "data": {
            "image/png": "[encoded data removed]",
            "text/plain": [
              "<Figure size 432x288 with 1 Axes>"
            ]
          },
          "metadata": {
            "needs_background": "light"
          }
        }
      ]
    },
    {
      "cell_type": "markdown",
      "metadata": {
        "id": "163iIWfSnp0F"
      },
      "source": [
        "With most machines have 1 AV, as we discussed previously, then the percentage of 1 AV is highes. But with the number of AVs increases, the percentage also goes down. So it's a good signal to strengthen the point in Q4. But we still have one doubt, does the number of machines per AVs not skew much?"
      ],
      "id": "163iIWfSnp0F"
    },
    {
      "cell_type": "code",
      "metadata": {
        "colab": {
          "base_uri": "https://localhost:8080/",
          "height": 326
        },
        "id": "0KJHSuUkfZZC",
        "outputId": "803422fe-d568-4d1d-a91a-e033ecbbd10a"
      },
      "source": [
        "plt.plot(total_machines_ena/total_machines_ena.sum())\n",
        "plt.title('Machines Percentage per AVProductEnabled', pad=20)\n",
        "plt.ylabel(\"Machines Percentage\")\n",
        "plt.xlabel(\"AVProductEnabled\")\n",
        "plt.plot()"
      ],
      "id": "0KJHSuUkfZZC",
      "execution_count": 114,
      "outputs": [
        {
          "output_type": "execute_result",
          "data": {
            "text/plain": [
              "[]"
            ]
          },
          "metadata": {},
          "execution_count": 114
        },
        {
          "output_type": "display_data",
          "data": {
            "image/png": "[encoded data removed]",
            "text/plain": [
              "<Figure size 432x288 with 1 Axes>"
            ]
          },
          "metadata": {
            "needs_background": "light"
          }
        }
      ]
    },
    {
      "cell_type": "markdown",
      "metadata": {
        "id": "HVw4H4evoRk8"
      },
      "source": [
        "But sadly, most (about 97% I guess) machines have 1 AV enabled. So then, I have less confidence to say we have stronger protection with more AV run simultaneously."
      ],
      "id": "HVw4H4evoRk8"
    },
    {
      "cell_type": "markdown",
      "metadata": {
        "id": "QCa-P009fkDb"
      },
      "source": [
        "## Feature 3: CountryIdentifier"
      ],
      "id": "QCa-P009fkDb"
    },
    {
      "cell_type": "markdown",
      "metadata": {
        "id": "KX_bSq68oiX0"
      },
      "source": [
        "To answer the question, do attackers target specific victims in a location? Let's find out!"
      ],
      "id": "KX_bSq68oiX0"
    },
    {
      "cell_type": "code",
      "metadata": {
        "id": "bMVrX5VMfZPJ"
      },
      "source": [
        "total_per_country = q5_data[\"CountryIdentifier\"].value_counts(sort=False).sort_index()\n",
        "infected_per_country = q5_data[q5_data[\"HasDetections\"]==1][\"CountryIdentifier\"].value_counts(sort=False).sort_index()"
      ],
      "id": "bMVrX5VMfZPJ",
      "execution_count": 115,
      "outputs": []
    },
    {
      "cell_type": "code",
      "metadata": {
        "colab": {
          "base_uri": "https://localhost:8080/",
          "height": 381
        },
        "id": "mFxawGr1fZL_",
        "outputId": "771956ed-b9d9-42ca-d755-bf118f02cdbf"
      },
      "source": [
        "plt.figure(figsize=(16,5))\n",
        "plt.plot(np.arange(0,222), infected_per_country/total_per_country)\n",
        "plt.title('CountryIdentifier vs Infection Percentage (Treat as Categories)', pad=20)\n",
        "plt.ylabel(\"Infection Percentage\")\n",
        "plt.xlabel(\"CountryIdentifier\")\n",
        "plt.plot()"
      ],
      "id": "mFxawGr1fZL_",
      "execution_count": 116,
      "outputs": [
        {
          "output_type": "execute_result",
          "data": {
            "text/plain": [
              "[]"
            ]
          },
          "metadata": {},
          "execution_count": 116
        },
        {
          "output_type": "display_data",
          "data": {
            "image/png": "[encoded data removed]",
            "text/plain": [
              "<Figure size 1152x360 with 1 Axes>"
            ]
          },
          "metadata": {
            "needs_background": "light"
          }
        }
      ]
    },
    {
      "cell_type": "markdown",
      "metadata": {
        "id": "NulYD9W6oxa2"
      },
      "source": [
        "From this figure, it's safe to say that locations do really matter to the malwares infection. But without the actual number per country, percentage can't say much."
      ],
      "id": "NulYD9W6oxa2"
    },
    {
      "cell_type": "code",
      "metadata": {
        "colab": {
          "base_uri": "https://localhost:8080/",
          "height": 381
        },
        "id": "yZVcw9u_frxZ",
        "outputId": "cb0ca75a-50df-49ba-e8b1-98380ad5e2d7"
      },
      "source": [
        "plt.figure(figsize=(16,5))\n",
        "plt.bar(np.arange(0,222), infected_per_country)\n",
        "plt.title('Number of Infected Machine per CountryIdentifier', pad=20)\n",
        "plt.ylabel(\"Number of Infected Machine\")\n",
        "plt.xlabel(\"CountryIdentifier\")\n",
        "plt.plot()"
      ],
      "id": "yZVcw9u_frxZ",
      "execution_count": 117,
      "outputs": [
        {
          "output_type": "execute_result",
          "data": {
            "text/plain": [
              "[]"
            ]
          },
          "metadata": {},
          "execution_count": 117
        },
        {
          "output_type": "display_data",
          "data": {
            "image/png": "[encoded data removed]",
            "text/plain": [
              "<Figure size 1152x360 with 1 Axes>"
            ]
          },
          "metadata": {
            "needs_background": "light"
          }
        }
      ]
    },
    {
      "cell_type": "markdown",
      "metadata": {
        "id": "E_3iKJOwo-GH"
      },
      "source": [
        "With this figure, we can see that some particular country have very high number of infection. Combining with percentage data, we can identify some location that more likely to be attacked. "
      ],
      "id": "E_3iKJOwo-GH"
    },
    {
      "cell_type": "markdown",
      "metadata": {
        "id": "automated-bulgarian"
      },
      "source": [
        "# Section 6: Baseline modelling (Q6)"
      ],
      "id": "automated-bulgarian"
    },
    {
      "cell_type": "code",
      "metadata": {
        "id": "KnjmBcQrAKrT"
      },
      "source": [
        "from sklearn.model_selection import train_test_split\n",
        "from sklearn.linear_model import LogisticRegression\n",
        "from sklearn.metrics import roc_auc_score, accuracy_score, classification_report\n",
        "from sklearn.preprocessing import StandardScaler, RobustScaler, MinMaxScaler"
      ],
      "id": "KnjmBcQrAKrT",
      "execution_count": 56,
      "outputs": []
    },
    {
      "cell_type": "code",
      "metadata": {
        "id": "rubber-specification"
      },
      "source": [
        "# First, split train test for both Q6 and Q7\n",
        "data_train, data_test = train_test_split(data, test_size=0.2, random_state=0)"
      ],
      "id": "rubber-specification",
      "execution_count": 57,
      "outputs": []
    },
    {
      "cell_type": "markdown",
      "metadata": {
        "id": "BhjzZ0hxVuJo"
      },
      "source": [
        "After dividing train and test set, as a rule, I **won't touch** anything in the test set, except apply transformations that I mined from train set to it (normalization, fill nan, etc)"
      ],
      "id": "BhjzZ0hxVuJo"
    },
    {
      "cell_type": "code",
      "metadata": {
        "id": "knowing-event"
      },
      "source": [
        "# I will buld a simple logistic regression with a subset of features, mainly the numerical ones\n",
        "model0_features = [\"Census_ProcessorCoreCount\",\n",
        "                   \"Census_TotalPhysicalRAM\",\n",
        "                   \"AVProductsInstalled\",\n",
        "                   \"Census_OSBuildNumber\",\n",
        "                   \"Census_OSBuildRevision\",\n",
        "                   \"Wdft_IsGamer\",\n",
        "                   \"HasDetections\"]"
      ],
      "id": "knowing-event",
      "execution_count": 58,
      "outputs": []
    },
    {
      "cell_type": "code",
      "metadata": {
        "id": "3eNYBYIBYYDh"
      },
      "source": [
        "data_train_0 = data_train[model0_features].copy()\n",
        "data_test_0 = data_test[model0_features].copy()"
      ],
      "id": "3eNYBYIBYYDh",
      "execution_count": 59,
      "outputs": []
    },
    {
      "cell_type": "code",
      "metadata": {
        "colab": {
          "base_uri": "https://localhost:8080/"
        },
        "id": "q3X1CR_nY3_J",
        "outputId": "6024a06e-9b36-47bd-fbbf-6c93ee57b7be"
      },
      "source": [
        "# Count NaN\n",
        "data_train_0.isnull().sum()"
      ],
      "id": "q3X1CR_nY3_J",
      "execution_count": 60,
      "outputs": [
        {
          "output_type": "execute_result",
          "data": {
            "text/plain": [
              "Census_ProcessorCoreCount     32984\n",
              "Census_TotalPhysicalRAM       64360\n",
              "AVProductsInstalled           28888\n",
              "Census_OSBuildNumber              0\n",
              "Census_OSBuildRevision            0\n",
              "Wdft_IsGamer                 242651\n",
              "HasDetections                     0\n",
              "dtype: int64"
            ]
          },
          "metadata": {},
          "execution_count": 60
        }
      ]
    },
    {
      "cell_type": "code",
      "metadata": {
        "id": "0zWeqeczZzy5"
      },
      "source": [
        "# For numerical data, I will fill the median\n",
        "# Also for ram and disk, I will transform it from MB to GB for smaller numbers.\n",
        "\n",
        "for feat in model0_features[:4]:\n",
        "    data_train_0[feat] = data_train_0[feat].fillna(data_train_0[feat].median())\n",
        "    # Apply the median from train data to transform test data\n",
        "    data_test_0[feat] = data_test_0[feat].fillna(data_train_0[feat].median())\n",
        "    if feat in [\"Census_PrimaryDiskTotalCapacity\", \"Census_TotalPhysicalRAM\"]:\n",
        "        data_train_0[feat] = data_train_0[feat]/1024\n",
        "        data_test_0[feat] = data_test_0[feat]/1024\n",
        "\n",
        "# # For categorical/binary data, I will fill the mode\n",
        "data_train_0[\"Wdft_IsGamer\"] = data_train_0[\"Wdft_IsGamer\"].fillna(data_train_0[\"Wdft_IsGamer\"].mode().values[0])\n",
        "data_test_0[\"Wdft_IsGamer\"] = data_test_0[\"Wdft_IsGamer\"].fillna(data_train_0[\"Wdft_IsGamer\"].mode().values[0])"
      ],
      "id": "0zWeqeczZzy5",
      "execution_count": 61,
      "outputs": []
    },
    {
      "cell_type": "code",
      "metadata": {
        "colab": {
          "base_uri": "https://localhost:8080/"
        },
        "id": "xCnVhZIzegyJ",
        "outputId": "7d630940-4f38-40b3-cd17-88fc5eb9e629"
      },
      "source": [
        "# NaN values on both sets after filling, just sanity checking.\n",
        "data_train_0.isnull().sum()"
      ],
      "id": "xCnVhZIzegyJ",
      "execution_count": 62,
      "outputs": [
        {
          "output_type": "execute_result",
          "data": {
            "text/plain": [
              "Census_ProcessorCoreCount    0\n",
              "Census_TotalPhysicalRAM      0\n",
              "AVProductsInstalled          0\n",
              "Census_OSBuildNumber         0\n",
              "Census_OSBuildRevision       0\n",
              "Wdft_IsGamer                 0\n",
              "HasDetections                0\n",
              "dtype: int64"
            ]
          },
          "metadata": {},
          "execution_count": 62
        }
      ]
    },
    {
      "cell_type": "code",
      "metadata": {
        "id": "YK8_HQbnhkkF"
      },
      "source": [
        "# Convert DataFrame to NumPy\n",
        "X_train = data_train_0[model0_features[:-1]].to_numpy()\n",
        "X_test = data_test_0[model0_features[:-1]].to_numpy()\n",
        "y_train = data_train_0[model0_features[-1]].to_numpy()\n",
        "y_test = data_test_0[model0_features[-1]].to_numpy()"
      ],
      "id": "YK8_HQbnhkkF",
      "execution_count": 63,
      "outputs": []
    },
    {
      "cell_type": "code",
      "metadata": {
        "id": "-uziXcNziSWe"
      },
      "source": [
        "model0 = LogisticRegression(random_state=0).fit(X_train, y_train)\n",
        "y_pred = model0.predict(X_test)"
      ],
      "id": "-uziXcNziSWe",
      "execution_count": 64,
      "outputs": []
    },
    {
      "cell_type": "code",
      "metadata": {
        "colab": {
          "base_uri": "https://localhost:8080/"
        },
        "id": "G25ErqDdi3BE",
        "outputId": "ed5799e7-2f42-4def-fbc9-6ca99aeba961"
      },
      "source": [
        "print(\"model 0 Error rate: {:0.4f}\".format(1 - accuracy_score(y_test, y_pred)))\n",
        "print(\"model 0 AUC score: {:0.4f}\".format(roc_auc_score(y_test, model0.predict_proba(X_test)[:,1])))"
      ],
      "id": "G25ErqDdi3BE",
      "execution_count": 65,
      "outputs": [
        {
          "output_type": "stream",
          "name": "stdout",
          "text": [
            "model 0 Error rate: 0.4666\n",
            "model 0 AUC score: 0.5569\n"
          ]
        }
      ]
    },
    {
      "cell_type": "code",
      "metadata": {
        "colab": {
          "base_uri": "https://localhost:8080/"
        },
        "id": "s6UnZ1Fb2tDX",
        "outputId": "f8c685ea-d4e0-4e00-dbec-e90266eb87b2"
      },
      "source": [
        "print(classification_report(y_test, y_pred))"
      ],
      "id": "s6UnZ1Fb2tDX",
      "execution_count": 66,
      "outputs": [
        {
          "output_type": "stream",
          "name": "stdout",
          "text": [
            "              precision    recall  f1-score   support\n",
            "\n",
            "           0       0.53      0.65      0.58    892097\n",
            "           1       0.54      0.42      0.47    892200\n",
            "\n",
            "    accuracy                           0.53   1784297\n",
            "   macro avg       0.54      0.53      0.53   1784297\n",
            "weighted avg       0.54      0.53      0.53   1784297\n",
            "\n"
          ]
        }
      ]
    },
    {
      "cell_type": "markdown",
      "metadata": {
        "id": "_5slw16kpTHh"
      },
      "source": [
        "The error rate may come from:\n",
        "* I treat OSBuild and OSRevision as continuous variable, while they are really not.\n",
        "* Other numerical variables are not normalized/scaled yet. So as discuss in Q2, some machines are much more powerful than the rest, to model's weight to its will be very small, and affect the majority data."
      ],
      "id": "_5slw16kpTHh"
    },
    {
      "cell_type": "markdown",
      "metadata": {
        "id": "million-annual"
      },
      "source": [
        "# Section 7: Feature Cleaning and Additional models (Q7a & Q7b)"
      ],
      "id": "million-annual"
    },
    {
      "cell_type": "markdown",
      "metadata": {
        "id": "RjEQ76fHSehM"
      },
      "source": [
        "## Improvement over Q6 by Preprocessing"
      ],
      "id": "RjEQ76fHSehM"
    },
    {
      "cell_type": "markdown",
      "metadata": {
        "id": "5M_qFrE5SjKn"
      },
      "source": [
        "This is not part of Q7, but I really wanted to see the performance gain over Q6's result using preprocessing.\n",
        "\n",
        "As we've already seen in Q2, ProcessorCoreCount and TotalPhysicalRAM have very wide range of values, so it's generally bad to use non-scaled values as features.\n",
        "\n",
        "I performed RobustScaler on both features and saw an improvement (2%) over non-scaled features."
      ],
      "id": "5M_qFrE5SjKn"
    },
    {
      "cell_type": "code",
      "metadata": {
        "id": "Y0OJnCrNCq09"
      },
      "source": [
        "# Robust scaler on Census_ProcessorCoreCount\n",
        "robust = RobustScaler().fit(X_train[:,0].reshape(-1, 1))\n",
        "X_train[:, 0] = robust.transform(X_train[:,0].reshape(-1, 1)).squeeze()\n",
        "X_test[:, 0] = robust.transform(X_test[:,0].reshape(-1, 1)).squeeze()"
      ],
      "id": "Y0OJnCrNCq09",
      "execution_count": 67,
      "outputs": []
    },
    {
      "cell_type": "code",
      "metadata": {
        "id": "MGB2B2KjJeeC"
      },
      "source": [
        "# Robust scaler on Census_TotalPhysicalRAM\n",
        "robust = RobustScaler().fit(X_train[:,1].reshape(-1, 1))\n",
        "X_train[:, 1] = robust.transform(X_train[:,1].reshape(-1, 1)).squeeze()\n",
        "X_test[:, 1] = robust.transform(X_test[:,1].reshape(-1, 1)).squeeze()"
      ],
      "id": "MGB2B2KjJeeC",
      "execution_count": 68,
      "outputs": []
    },
    {
      "cell_type": "code",
      "metadata": {
        "colab": {
          "base_uri": "https://localhost:8080/"
        },
        "id": "4uz65rmaJl2j",
        "outputId": "ddb83f3a-2fc8-4d7c-fcab-777a66385667"
      },
      "source": [
        "model_tmp = LogisticRegression(random_state=0).fit(X_train, y_train)\n",
        "y_pred = model_tmp.predict(X_test)\n",
        "print(\"model 1 Error rate: {:0.4f}\".format(1 - accuracy_score(y_test, y_pred)))\n",
        "print(\"model 1 AUC score: {:0.4f}\".format(roc_auc_score(y_test, model_tmp.predict_proba(X_test)[:,1])))"
      ],
      "id": "4uz65rmaJl2j",
      "execution_count": 69,
      "outputs": [
        {
          "output_type": "stream",
          "name": "stdout",
          "text": [
            "model 1 Error rate: 0.4460\n",
            "model 1 AUC score: 0.5856\n"
          ]
        }
      ]
    },
    {
      "cell_type": "code",
      "metadata": {
        "id": "CEFSQueLTZTR"
      },
      "source": [
        "# Delete some variables to free up memory\n",
        "del data_test_0, data_train_0, X_train, X_test, y_train, y_test"
      ],
      "id": "CEFSQueLTZTR",
      "execution_count": 70,
      "outputs": []
    },
    {
      "cell_type": "markdown",
      "metadata": {
        "id": "4FgVW7OETQDt"
      },
      "source": [
        "## Dataset"
      ],
      "id": "4FgVW7OETQDt"
    },
    {
      "cell_type": "code",
      "metadata": {
        "id": "GcxyfIywTSCI"
      },
      "source": [
        "model12_features = [\"Census_ProcessorCoreCount\",\n",
        "                    'Census_PrimaryDiskTotalCapacity',\n",
        "                    \"Census_SystemVolumeTotalCapacity\",\n",
        "                    \"Census_TotalPhysicalRAM\",\n",
        "                    \"AVProductsInstalled\",\n",
        "                    \"Wdft_IsGamer\",\n",
        "                    \"EngineVersion\",\n",
        "                    \"AppVersion\",\n",
        "                    \"AvSigVersion\",\n",
        "                    \"Census_OSBuildNumber\",\n",
        "                    \"Census_OSBuildRevision\",\n",
        "                    \"HasDetections\"]"
      ],
      "id": "GcxyfIywTSCI",
      "execution_count": 71,
      "outputs": []
    },
    {
      "cell_type": "code",
      "metadata": {
        "id": "C20Npp5VTXvD"
      },
      "source": [
        "data_train_1 = data_train[model12_features].copy()\n",
        "data_test_1 = data_test[model12_features].copy()"
      ],
      "id": "C20Npp5VTXvD",
      "execution_count": 72,
      "outputs": []
    },
    {
      "cell_type": "code",
      "metadata": {
        "id": "_RUShc5UTXfI",
        "colab": {
          "base_uri": "https://localhost:8080/"
        },
        "outputId": "1bd71ae5-8d8a-456e-b597-c6f48474b940"
      },
      "source": [
        "data_train_1.isnull().sum()"
      ],
      "id": "_RUShc5UTXfI",
      "execution_count": 73,
      "outputs": [
        {
          "output_type": "execute_result",
          "data": {
            "text/plain": [
              "Census_ProcessorCoreCount            32984\n",
              "Census_PrimaryDiskTotalCapacity      42302\n",
              "Census_SystemVolumeTotalCapacity     42291\n",
              "Census_TotalPhysicalRAM              64360\n",
              "AVProductsInstalled                  28888\n",
              "Wdft_IsGamer                        242651\n",
              "EngineVersion                            0\n",
              "AppVersion                               0\n",
              "AvSigVersion                             0\n",
              "Census_OSBuildNumber                     0\n",
              "Census_OSBuildRevision                   0\n",
              "HasDetections                            0\n",
              "dtype: int64"
            ]
          },
          "metadata": {},
          "execution_count": 73
        }
      ]
    },
    {
      "cell_type": "code",
      "metadata": {
        "id": "-qdP-lkV9FSX"
      },
      "source": [
        "# Also import and preprocess test data for Q8\n",
        "test_features = ['MachineIdentifier'] + model12_features[:-1]\n",
        "test = pd.read_csv('test.csv', usecols=test_features, dtype=dtypes)\n",
        "result = test['MachineIdentifier'].copy()\n",
        "test = test.drop(['MachineIdentifier'], axis=1)"
      ],
      "id": "-qdP-lkV9FSX",
      "execution_count": 74,
      "outputs": []
    },
    {
      "cell_type": "markdown",
      "metadata": {
        "id": "NltnBdrVALD4"
      },
      "source": [
        "## Pre-process dataset"
      ],
      "id": "NltnBdrVALD4"
    },
    {
      "cell_type": "markdown",
      "metadata": {
        "id": "UBX_2gEmdFpy"
      },
      "source": [
        "Step 1: Fill NaN"
      ],
      "id": "UBX_2gEmdFpy"
    },
    {
      "cell_type": "code",
      "metadata": {
        "id": "cu43S8wuA8Vy"
      },
      "source": [
        "num_feats = [\"Census_ProcessorCoreCount\",\n",
        "            'Census_PrimaryDiskTotalCapacity',\n",
        "            \"Census_SystemVolumeTotalCapacity\",\n",
        "            \"Census_TotalPhysicalRAM\"\n",
        "            ]\n",
        "\n",
        "cate_feats = [\"AVProductsInstalled\",\n",
        "              \"Wdft_IsGamer\"\n",
        "              ]\n",
        "                    \n",
        "ver_feats = [\"EngineVersion\",\n",
        "            \"AppVersion\",\n",
        "            \"AvSigVersion\",\n",
        "            \"Census_OSBuildNumber\",\n",
        "            \"Census_OSBuildRevision\"\n",
        "            ]"
      ],
      "id": "cu43S8wuA8Vy",
      "execution_count": 75,
      "outputs": []
    },
    {
      "cell_type": "markdown",
      "metadata": {
        "id": "zMkOBneWp1_0"
      },
      "source": [
        "I fill NaN value from numerical features with its median. Because these features have some very large values datapoints, so it's better to use median."
      ],
      "id": "zMkOBneWp1_0"
    },
    {
      "cell_type": "code",
      "metadata": {
        "id": "cgVLnZK-dIVF"
      },
      "source": [
        "# For numerical features\n",
        "for feat in num_feats:\n",
        "    data_train_1[feat] = data_train_1[feat].fillna(data_train_1[feat].median())\n",
        "    data_test_1[feat] = data_test_1[feat].fillna(data_train_1[feat].median())\n",
        "    test[feat] = test[feat].fillna(data_train_1[feat].median())"
      ],
      "id": "cgVLnZK-dIVF",
      "execution_count": 76,
      "outputs": []
    },
    {
      "cell_type": "markdown",
      "metadata": {
        "id": "FaizODfWqBnG"
      },
      "source": [
        "For categorical features, I use mode, which is the most likely value. "
      ],
      "id": "FaizODfWqBnG"
    },
    {
      "cell_type": "code",
      "metadata": {
        "id": "6jmfe-yadKy4"
      },
      "source": [
        "1# For categorical features\n",
        "for feat in cate_feats:\n",
        "    data_train_1[feat] = data_train_1[feat].fillna(data_train_1[feat].mode().values[0])\n",
        "    data_test_1[feat] = data_test_1[feat].fillna(data_train_1[feat].mode().values[0])\n",
        "    test[feat] = test[feat].fillna(data_train_1[feat].mode().values[0])"
      ],
      "id": "6jmfe-yadKy4",
      "execution_count": 77,
      "outputs": []
    },
    {
      "cell_type": "markdown",
      "metadata": {
        "id": "AnNe-ziQBKWG"
      },
      "source": [
        "Step 2: Scale/Normalize numerical features"
      ],
      "id": "AnNe-ziQBKWG"
    },
    {
      "cell_type": "markdown",
      "metadata": {
        "id": "0TimgqCZqKp_"
      },
      "source": [
        "According to sklearn documentation, with outliers (the very powerful machines), I should you RobustScaler. I actually tested with StandardScaler and MinMaxScaler too, and RobustScaler have slightly better than StandardScaler."
      ],
      "id": "0TimgqCZqKp_"
    },
    {
      "cell_type": "code",
      "metadata": {
        "id": "pJNmXKX5Wk3N"
      },
      "source": [
        "for feat in num_feats:\n",
        "    robust = RobustScaler().fit(data_train_1[feat].to_numpy().reshape(-1, 1))\n",
        "    data_train_1[feat] = robust.transform(data_train_1[feat].to_numpy().reshape(-1, 1)).squeeze()\n",
        "    data_test_1[feat] = robust.transform(data_test_1[feat].to_numpy().reshape(-1, 1)).squeeze()\n",
        "    test[feat] = robust.transform(test[feat].to_numpy().reshape(-1, 1)).squeeze()"
      ],
      "id": "pJNmXKX5Wk3N",
      "execution_count": 78,
      "outputs": []
    },
    {
      "cell_type": "markdown",
      "metadata": {
        "id": "tBDdG4jjYKHa"
      },
      "source": [
        "Step 3: Frequency encoding version features"
      ],
      "id": "tBDdG4jjYKHa"
    },
    {
      "cell_type": "markdown",
      "metadata": {
        "id": "HYJM5opcqYJv"
      },
      "source": [
        "Frequency encoding is a very popular technique to treat these kind of features, when you have high number of values."
      ],
      "id": "HYJM5opcqYJv"
    },
    {
      "cell_type": "code",
      "metadata": {
        "id": "T0-IKftVYJ0k"
      },
      "source": [
        "# For version features, I use frequency encoding.\n",
        "for feat in ver_feats:\n",
        "    trans = data_train_1.groupby(feat).size()/len(data_train_1)\n",
        "    data_train_1[feat] = data_train_1[feat].map(trans)\n",
        "    data_test_1[feat] = data_test_1[feat].map(trans)\n",
        "    data_test_1[feat] = data_test_1[feat].fillna(0) #  There may be some data points that only appear on test set -> freq = 0\n",
        "\n",
        "    test[feat] = test[feat].map(trans)\n",
        "    test[feat] = test[feat].fillna(0)"
      ],
      "id": "T0-IKftVYJ0k",
      "execution_count": 79,
      "outputs": []
    },
    {
      "cell_type": "markdown",
      "metadata": {
        "id": "3LPqoBJVAN4t"
      },
      "source": [
        "Convert DataFrame to Numpy array"
      ],
      "id": "3LPqoBJVAN4t"
    },
    {
      "cell_type": "code",
      "metadata": {
        "id": "A2yJCJ2KAKWU"
      },
      "source": [
        "X_train = data_train_1[model12_features[:-1]].to_numpy()\n",
        "X_test = data_test_1[model12_features[:-1]].to_numpy()\n",
        "y_train = data_train_1[model12_features[-1]].to_numpy()\n",
        "y_test = data_test_1[model12_features[-1]].to_numpy()"
      ],
      "id": "A2yJCJ2KAKWU",
      "execution_count": 80,
      "outputs": []
    },
    {
      "cell_type": "markdown",
      "metadata": {
        "id": "HOgQ5oUu5OZW"
      },
      "source": [
        "## 7a: Logistic Regression with processed dataset"
      ],
      "id": "HOgQ5oUu5OZW"
    },
    {
      "cell_type": "code",
      "metadata": {
        "id": "derived-vienna"
      },
      "source": [
        "model1 = LogisticRegression(random_state=0).fit(X_train, y_train)\n",
        "y_pred = model1.predict(X_test)"
      ],
      "id": "derived-vienna",
      "execution_count": 81,
      "outputs": []
    },
    {
      "cell_type": "code",
      "metadata": {
        "id": "agricultural-lending",
        "colab": {
          "base_uri": "https://localhost:8080/"
        },
        "outputId": "ebe8555a-b3e7-4d96-8128-befdba5a66bd"
      },
      "source": [
        "print(\"model 1 Error rate: {:0.4f}\".format(1 - accuracy_score(y_test, y_pred)))\n",
        "print(\"model 1 AUC score: {:0.4f}\".format(roc_auc_score(y_test, model1.predict_proba(X_test)[:,1])))"
      ],
      "id": "agricultural-lending",
      "execution_count": 82,
      "outputs": [
        {
          "output_type": "stream",
          "name": "stdout",
          "text": [
            "model 1 Error rate: 0.4216\n",
            "model 1 AUC score: 0.6080\n"
          ]
        }
      ]
    },
    {
      "cell_type": "markdown",
      "metadata": {
        "id": "KJC1hH4s5Szu"
      },
      "source": [
        "## 7b: Other ML algorithms with processed dataset"
      ],
      "id": "KJC1hH4s5Szu"
    },
    {
      "cell_type": "code",
      "metadata": {
        "colab": {
          "base_uri": "https://localhost:8080/"
        },
        "id": "OXFk463jtNF_",
        "outputId": "45b6b7ba-d6e3-4562-d48c-89fa52917e6b"
      },
      "source": [
        "from xgboost import XGBClassifier\n",
        "\n",
        "model2 = XGBClassifier().fit(X_train, y_train)\n",
        "y_pred = model2.predict(X_test)"
      ],
      "id": "OXFk463jtNF_",
      "execution_count": 83,
      "outputs": [
        {
          "output_type": "stream",
          "name": "stdout",
          "text": [
            "[06:01:51] WARNING: /workspace/src/learner.cc:686: Tree method is automatically selected to be 'approx' for faster speed. To use old behavior (exact greedy algorithm on single machine), set tree_method to 'exact'.\n"
          ]
        }
      ]
    },
    {
      "cell_type": "code",
      "metadata": {
        "id": "RjA-qG6c5aND",
        "colab": {
          "base_uri": "https://localhost:8080/"
        },
        "outputId": "dff35955-81d8-43f1-d8c6-6b5f21f75b97"
      },
      "source": [
        "print(\"model 2 Error rate: {:0.4f}\".format(1 - accuracy_score(y_test, y_pred)))\n",
        "print(\"model 2 AUC score: {:0.4f}\".format(roc_auc_score(y_test, model2.predict_proba(X_test)[:,1])))"
      ],
      "id": "RjA-qG6c5aND",
      "execution_count": 84,
      "outputs": [
        {
          "output_type": "stream",
          "name": "stdout",
          "text": [
            "model 2 Error rate: 0.3978\n",
            "model 2 AUC score: 0.6416\n"
          ]
        }
      ]
    },
    {
      "cell_type": "markdown",
      "metadata": {
        "id": "ctV6tpcM93oA"
      },
      "source": [
        "|           | Error rate | AUC Score |\n",
        "|-----------|------------|-----------|\n",
        "| model 0   | 0.4666     | 0.5569    |\n",
        "| model 1   | 0.4216     | 0.6080    |\n",
        "| model 2   | 0.3978     | 0.6416    |\n",
        "| model_tmp | 0.4460     | 0.5856    |"
      ],
      "id": "ctV6tpcM93oA"
    },
    {
      "cell_type": "markdown",
      "metadata": {
        "id": "23k9wqOdrV26"
      },
      "source": [
        "* model_tmp is a model with the same feature set as model0 but had been preprocessing.\n",
        "\n",
        "* So as we can see, processing really helps the model to achieve higher result (from model0 to model_tmp).\n",
        "\n",
        "* Also by choosing some features that I think contribute to how likely a machine will get malwares, such as EngineVer (version of defender engine). These new features with preprocessing helps model learn better (as from model 0 to 1).\n",
        "\n",
        "* Model 2 is the strongest model using XGBoost, so obviously it is the best one. But you will be surprise in Q8."
      ],
      "id": "23k9wqOdrV26"
    },
    {
      "cell_type": "markdown",
      "metadata": {
        "id": "beneficial-tactics"
      },
      "source": [
        "# Section 8: Screenshots (Q8)"
      ],
      "id": "beneficial-tactics"
    },
    {
      "cell_type": "code",
      "metadata": {
        "id": "overhead-clinic"
      },
      "source": [
        "prob_0 = model0.predict_proba(test[model0_features[:-1]].to_numpy())"
      ],
      "id": "overhead-clinic",
      "execution_count": 95,
      "outputs": []
    },
    {
      "cell_type": "code",
      "metadata": {
        "id": "local-pattern"
      },
      "source": [
        "prob_1 = model1.predict_proba(test[model12_features[:-1]].to_numpy())"
      ],
      "id": "local-pattern",
      "execution_count": 96,
      "outputs": []
    },
    {
      "cell_type": "code",
      "metadata": {
        "id": "koI-vOSaDmcP"
      },
      "source": [
        "prob_2 = model2.predict_proba(test[model12_features[:-1]].to_numpy())"
      ],
      "id": "koI-vOSaDmcP",
      "execution_count": 97,
      "outputs": []
    },
    {
      "cell_type": "code",
      "metadata": {
        "id": "-vqc3Os7W4gL"
      },
      "source": [
        "pd.DataFrame({\"MachineIdentifier\": result, \"HasDetections\": prob_0[:,1]}).to_csv(\"submission_0.csv\", index=False)"
      ],
      "id": "-vqc3Os7W4gL",
      "execution_count": 105,
      "outputs": []
    },
    {
      "cell_type": "code",
      "metadata": {
        "id": "Px1UPN1jYCkh"
      },
      "source": [
        "pd.DataFrame({\"MachineIdentifier\": result, \"HasDetections\": prob_1[:,1]}).to_csv(\"submission_1.csv\", index=False)"
      ],
      "id": "Px1UPN1jYCkh",
      "execution_count": 106,
      "outputs": []
    },
    {
      "cell_type": "code",
      "metadata": {
        "id": "SzGLLihpDpdv"
      },
      "source": [
        "pd.DataFrame({\"MachineIdentifier\": result, \"HasDetections\": prob_2[:,1]}).to_csv(\"submission_2.csv\", index=False)"
      ],
      "id": "SzGLLihpDpdv",
      "execution_count": 107,
      "outputs": []
    },
    {
      "cell_type": "markdown",
      "metadata": {
        "id": "xy2SqS5ssCql"
      },
      "source": [
        "![picture](https://drive.google.com/uc?id=1Hgt2i0gjcfh3QxA67AGrp9PuS2Od1n90)"
      ],
      "id": "xy2SqS5ssCql"
    },
    {
      "cell_type": "markdown",
      "metadata": {
        "id": "ERsFT80IsCkx"
      },
      "source": [
        "Yeah, **the simplest** model is the best one on private test set. Surprise!"
      ],
      "id": "ERsFT80IsCkx"
    },
    {
      "cell_type": "markdown",
      "metadata": {
        "id": "iWVKAx7otKpp"
      },
      "source": [
        "Best submission:\n",
        "\n",
        "* Private score: 0.55126\n",
        "* Public score: 0.56601\n",
        "\n",
        "Kaggle profile: https://www.kaggle.com/anhnguyen113094662"
      ],
      "id": "iWVKAx7otKpp"
    }
  ]
}